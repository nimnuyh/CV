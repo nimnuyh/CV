{
 "cells": [
  {
   "attachments": {},
   "cell_type": "markdown",
   "metadata": {},
   "source": [
    "# Multi Layer Perceptron Finetuning Practice with MNIST Data"
   ]
  },
  {
   "attachments": {},
   "cell_type": "markdown",
   "metadata": {},
   "source": [
    "#### Setting"
   ]
  },
  {
   "cell_type": "code",
   "execution_count": 1,
   "metadata": {},
   "outputs": [
    {
     "name": "stdout",
     "output_type": "stream",
     "text": [
      "Using PyTorch version: 2.0.1+cpu  Device: cpu\n"
     ]
    }
   ],
   "source": [
    "import numpy as np\n",
    "import matplotlib.pyplot as plt\n",
    "\n",
    "import torch\n",
    "import torch.nn as nn\n",
    "import torch.nn.functional as F\n",
    "from torchvision import transforms, datasets\n",
    "\n",
    "if torch.cuda.is_available():\n",
    "    DEVICE = torch.device('cuda')\n",
    "else:\n",
    "    DEVICE = torch.device('cpu')\n",
    "print('Using PyTorch version:', torch.__version__, ' Device:', DEVICE)"
   ]
  },
  {
   "cell_type": "code",
   "execution_count": 2,
   "metadata": {},
   "outputs": [],
   "source": [
    "BATCH_SIZE = 32\n",
    "EPOCHS = 10"
   ]
  },
  {
   "cell_type": "code",
   "execution_count": 3,
   "metadata": {},
   "outputs": [],
   "source": [
    "train_dataset = datasets.MNIST(root = \"../data/MNIST\",\n",
    "                               train = True,\n",
    "                               download = True,\n",
    "                               transform = transforms.ToTensor())\n",
    "\n",
    "test_dataset = datasets.MNIST(root = \"../data/MNIST\",\n",
    "                              train = False,\n",
    "                              transform = transforms.ToTensor())\n",
    "\n",
    "train_loader = torch.utils.data.DataLoader(dataset = train_dataset,\n",
    "                                           batch_size = BATCH_SIZE,\n",
    "                                           shuffle = True)\n",
    "\n",
    "test_loader = torch.utils.data.DataLoader(dataset = test_dataset,\n",
    "                                          batch_size = BATCH_SIZE,\n",
    "                                          shuffle = False)"
   ]
  },
  {
   "cell_type": "code",
   "execution_count": 4,
   "metadata": {},
   "outputs": [
    {
     "name": "stdout",
     "output_type": "stream",
     "text": [
      "X_train: torch.Size([32, 1, 28, 28]) type: torch.FloatTensor\n",
      "y_train: torch.Size([32]) type: torch.LongTensor\n"
     ]
    }
   ],
   "source": [
    "for (X_train, y_train) in train_loader:\n",
    "    print('X_train:', X_train.size(), 'type:', X_train.type())\n",
    "    print('y_train:', y_train.size(), 'type:', y_train.type())\n",
    "    break"
   ]
  },
  {
   "cell_type": "code",
   "execution_count": 5,
   "metadata": {},
   "outputs": [
    {
     "data": {
      "image/png": "[encoded data removed]",
      "text/plain": [
       "<Figure size 1000x100 with 10 Axes>"
      ]
     },
     "metadata": {},
     "output_type": "display_data"
    }
   ],
   "source": [
    "pltsize = 1\n",
    "plt.figure(figsize=(10 * pltsize, pltsize))\n",
    "for i in range(10):\n",
    "    plt.subplot(1, 10, i + 1)\n",
    "    plt.axis('off')\n",
    "    plt.imshow(X_train[i, :, :, :].numpy().reshape(28, 28), cmap = \"gray_r\")\n",
    "    plt.title('Class: ' + str(y_train[i].item()))"
   ]
  },
  {
   "attachments": {},
   "cell_type": "markdown",
   "metadata": {},
   "source": [
    "#### Modeling"
   ]
  },
  {
   "cell_type": "code",
   "execution_count": 6,
   "metadata": {},
   "outputs": [],
   "source": [
    "class Net(nn.Module):\n",
    "    def __init__(self):\n",
    "        super(Net, self).__init__()\n",
    "        self.fc1 = nn.Linear(28 * 28, 512)\n",
    "        self.fc2 = nn.Linear(512, 256)\n",
    "        self.fc3 = nn.Linear(256, 10)\n",
    "        self.dropout_prob = 0.5 # dropout 적용 \n",
    "        self.batch_norm1 = nn.BatchNorm1d(512) # Batch Normalization 적용\n",
    "        self.batch_norm2 = nn.BatchNorm1d(256) # Batch Normalization 적용\n",
    "\n",
    "    def forward(self, x):\n",
    "        x = x.view(-1, 28 * 28)\n",
    "        x = self.fc1(x)\n",
    "        x = self.batch_norm1(x)\n",
    "        x = F.relu(x)\n",
    "        x = F.dropout(x, training = self.training, p = self.dropout_prob) \n",
    "        x = self.fc2(x)\n",
    "        x = self.batch_norm2(x)\n",
    "        x = F.relu(x)\n",
    "        x = F.dropout(x, training = self.training, p = self.dropout_prob)\n",
    "        x = self.fc3(x)\n",
    "        \n",
    "        return x"
   ]
  },
  {
   "cell_type": "code",
   "execution_count": 7,
   "metadata": {},
   "outputs": [
    {
     "name": "stdout",
     "output_type": "stream",
     "text": [
      "Net(\n",
      "  (fc1): Linear(in_features=784, out_features=512, bias=True)\n",
      "  (fc2): Linear(in_features=512, out_features=256, bias=True)\n",
      "  (fc3): Linear(in_features=256, out_features=10, bias=True)\n",
      "  (batch_norm1): BatchNorm1d(512, eps=1e-05, momentum=0.1, affine=True, track_running_stats=True)\n",
      "  (batch_norm2): BatchNorm1d(256, eps=1e-05, momentum=0.1, affine=True, track_running_stats=True)\n",
      ")\n"
     ]
    }
   ],
   "source": [
    "import torch.nn.init as init # 초기화 관련 모듈인 init import\n",
    "def weight_init(m):\n",
    "    if isinstance(m, nn.Linear): # MLP 모델 중 nn.Linear에 해당하는 파라미터에 대해 초기화 수행\n",
    "        init.kaiming_uniform_(m.weight.data) # He initialization (init.kaiming_uniform_ 이 He initialization 의미)\n",
    "\n",
    "model = Net().to(DEVICE)\n",
    "model.apply(weight_init) # Net()의 instance인 model에 He initialization 적용\n",
    "optimizer = torch.optim.Adam(model.parameters(), lr = 0.01) # Adam optimizer 사용, Learning rate=0.01 적용\n",
    "criterion = nn.CrossEntropyLoss()\n",
    "\n",
    "print(model)"
   ]
  },
  {
   "attachments": {},
   "cell_type": "markdown",
   "metadata": {},
   "source": [
    "#### Train & Test"
   ]
  },
  {
   "cell_type": "code",
   "execution_count": 8,
   "metadata": {},
   "outputs": [],
   "source": [
    "def train(model, train_loader, optimizer, log_interval):\n",
    "    model.train()\n",
    "    for batch_idx, (image, label) in enumerate(train_loader):\n",
    "        image = image.to(DEVICE)\n",
    "        label = label.to(DEVICE)\n",
    "        optimizer.zero_grad()\n",
    "        output = model(image)\n",
    "        loss = criterion(output, label)\n",
    "        loss.backward()\n",
    "        optimizer.step()\n",
    "\n",
    "        if batch_idx % log_interval == 0:\n",
    "            print(\"Train Epoch: {} [{}/{} ({:.0f}%)]\\tTrain Loss: {:.6f}\".format(\n",
    "                epoch, batch_idx * len(image), \n",
    "                len(train_loader.dataset), 100. * batch_idx / len(train_loader), \n",
    "                loss.item()))"
   ]
  },
  {
   "cell_type": "code",
   "execution_count": 9,
   "metadata": {},
   "outputs": [],
   "source": [
    "def evaluate(model, test_loader):\n",
    "    model.eval()\n",
    "    test_loss = 0\n",
    "    correct = 0\n",
    "\n",
    "    with torch.no_grad():\n",
    "        for image, label in test_loader:\n",
    "            image = image.to(DEVICE)\n",
    "            label = label.to(DEVICE)\n",
    "            output = model(image)\n",
    "            test_loss += criterion(output, label).item()\n",
    "            prediction = output.max(1, keepdim = True)[1]\n",
    "            correct += prediction.eq(label.view_as(prediction)).sum().item()\n",
    "    \n",
    "    test_loss /= len(test_loader.dataset)\n",
    "    test_accuracy = 100. * correct / len(test_loader.dataset)\n",
    "    return test_loss, test_accuracy"
   ]
  },
  {
   "cell_type": "code",
   "execution_count": 10,
   "metadata": {},
   "outputs": [
    {
     "name": "stdout",
     "output_type": "stream",
     "text": [
      "Train Epoch: 1 [0/60000 (0%)]\tTrain Loss: 3.244096\n",
      "Train Epoch: 1 [6400/60000 (11%)]\tTrain Loss: 0.490059\n",
      "Train Epoch: 1 [12800/60000 (21%)]\tTrain Loss: 0.180158\n",
      "Train Epoch: 1 [19200/60000 (32%)]\tTrain Loss: 0.463719\n",
      "Train Epoch: 1 [25600/60000 (43%)]\tTrain Loss: 0.093817\n",
      "Train Epoch: 1 [32000/60000 (53%)]\tTrain Loss: 0.070205\n",
      "Train Epoch: 1 [38400/60000 (64%)]\tTrain Loss: 0.204234\n",
      "Train Epoch: 1 [44800/60000 (75%)]\tTrain Loss: 0.152568\n",
      "Train Epoch: 1 [51200/60000 (85%)]\tTrain Loss: 0.235419\n",
      "Train Epoch: 1 [57600/60000 (96%)]\tTrain Loss: 0.132276\n",
      "\n",
      "[EPOCH: 1], \tTest Loss: 0.0037, \tTest Accuracy: 96.41 % \n",
      "\n",
      "Train Epoch: 2 [0/60000 (0%)]\tTrain Loss: 0.073126\n",
      "Train Epoch: 2 [6400/60000 (11%)]\tTrain Loss: 0.259856\n",
      "Train Epoch: 2 [12800/60000 (21%)]\tTrain Loss: 0.348404\n",
      "Train Epoch: 2 [19200/60000 (32%)]\tTrain Loss: 0.607546\n",
      "Train Epoch: 2 [25600/60000 (43%)]\tTrain Loss: 0.134995\n",
      "Train Epoch: 2 [32000/60000 (53%)]\tTrain Loss: 0.646237\n",
      "Train Epoch: 2 [38400/60000 (64%)]\tTrain Loss: 0.404534\n",
      "Train Epoch: 2 [44800/60000 (75%)]\tTrain Loss: 0.348598\n",
      "Train Epoch: 2 [51200/60000 (85%)]\tTrain Loss: 0.420821\n",
      "Train Epoch: 2 [57600/60000 (96%)]\tTrain Loss: 0.341251\n",
      "\n",
      "[EPOCH: 2], \tTest Loss: 0.0034, \tTest Accuracy: 96.67 % \n",
      "\n",
      "Train Epoch: 3 [0/60000 (0%)]\tTrain Loss: 0.122383\n",
      "Train Epoch: 3 [6400/60000 (11%)]\tTrain Loss: 0.235476\n",
      "Train Epoch: 3 [12800/60000 (21%)]\tTrain Loss: 0.151920\n",
      "Train Epoch: 3 [19200/60000 (32%)]\tTrain Loss: 0.215910\n",
      "Train Epoch: 3 [25600/60000 (43%)]\tTrain Loss: 0.334603\n",
      "Train Epoch: 3 [32000/60000 (53%)]\tTrain Loss: 0.114258\n",
      "Train Epoch: 3 [38400/60000 (64%)]\tTrain Loss: 0.101749\n",
      "Train Epoch: 3 [44800/60000 (75%)]\tTrain Loss: 0.851165\n",
      "Train Epoch: 3 [51200/60000 (85%)]\tTrain Loss: 0.350949\n",
      "Train Epoch: 3 [57600/60000 (96%)]\tTrain Loss: 0.172644\n",
      "\n",
      "[EPOCH: 3], \tTest Loss: 0.0029, \tTest Accuracy: 97.06 % \n",
      "\n",
      "Train Epoch: 4 [0/60000 (0%)]\tTrain Loss: 0.302503\n",
      "Train Epoch: 4 [6400/60000 (11%)]\tTrain Loss: 0.406418\n",
      "Train Epoch: 4 [12800/60000 (21%)]\tTrain Loss: 0.249816\n",
      "Train Epoch: 4 [19200/60000 (32%)]\tTrain Loss: 0.233060\n",
      "Train Epoch: 4 [25600/60000 (43%)]\tTrain Loss: 0.192350\n",
      "Train Epoch: 4 [32000/60000 (53%)]\tTrain Loss: 0.429990\n",
      "Train Epoch: 4 [38400/60000 (64%)]\tTrain Loss: 0.108038\n",
      "Train Epoch: 4 [44800/60000 (75%)]\tTrain Loss: 0.231659\n",
      "Train Epoch: 4 [51200/60000 (85%)]\tTrain Loss: 0.178675\n",
      "Train Epoch: 4 [57600/60000 (96%)]\tTrain Loss: 0.357549\n",
      "\n",
      "[EPOCH: 4], \tTest Loss: 0.0029, \tTest Accuracy: 97.19 % \n",
      "\n",
      "Train Epoch: 5 [0/60000 (0%)]\tTrain Loss: 0.349437\n",
      "Train Epoch: 5 [6400/60000 (11%)]\tTrain Loss: 0.150751\n",
      "Train Epoch: 5 [12800/60000 (21%)]\tTrain Loss: 0.613646\n",
      "Train Epoch: 5 [19200/60000 (32%)]\tTrain Loss: 0.336379\n",
      "Train Epoch: 5 [25600/60000 (43%)]\tTrain Loss: 0.327510\n",
      "Train Epoch: 5 [32000/60000 (53%)]\tTrain Loss: 0.050867\n",
      "Train Epoch: 5 [38400/60000 (64%)]\tTrain Loss: 0.075941\n",
      "Train Epoch: 5 [44800/60000 (75%)]\tTrain Loss: 0.142014\n",
      "Train Epoch: 5 [51200/60000 (85%)]\tTrain Loss: 0.127098\n",
      "Train Epoch: 5 [57600/60000 (96%)]\tTrain Loss: 0.390172\n",
      "\n",
      "[EPOCH: 5], \tTest Loss: 0.0027, \tTest Accuracy: 97.33 % \n",
      "\n",
      "Train Epoch: 6 [0/60000 (0%)]\tTrain Loss: 0.052967\n",
      "Train Epoch: 6 [6400/60000 (11%)]\tTrain Loss: 0.108443\n",
      "Train Epoch: 6 [12800/60000 (21%)]\tTrain Loss: 0.143815\n",
      "Train Epoch: 6 [19200/60000 (32%)]\tTrain Loss: 0.005997\n",
      "Train Epoch: 6 [25600/60000 (43%)]\tTrain Loss: 0.135861\n",
      "Train Epoch: 6 [32000/60000 (53%)]\tTrain Loss: 0.137283\n",
      "Train Epoch: 6 [38400/60000 (64%)]\tTrain Loss: 0.254328\n",
      "Train Epoch: 6 [44800/60000 (75%)]\tTrain Loss: 0.116337\n",
      "Train Epoch: 6 [51200/60000 (85%)]\tTrain Loss: 0.150928\n",
      "Train Epoch: 6 [57600/60000 (96%)]\tTrain Loss: 0.425329\n",
      "\n",
      "[EPOCH: 6], \tTest Loss: 0.0022, \tTest Accuracy: 97.86 % \n",
      "\n",
      "Train Epoch: 7 [0/60000 (0%)]\tTrain Loss: 0.032548\n",
      "Train Epoch: 7 [6400/60000 (11%)]\tTrain Loss: 0.073963\n",
      "Train Epoch: 7 [12800/60000 (21%)]\tTrain Loss: 0.125761\n",
      "Train Epoch: 7 [19200/60000 (32%)]\tTrain Loss: 0.312652\n",
      "Train Epoch: 7 [25600/60000 (43%)]\tTrain Loss: 0.108171\n",
      "Train Epoch: 7 [32000/60000 (53%)]\tTrain Loss: 0.331968\n",
      "Train Epoch: 7 [38400/60000 (64%)]\tTrain Loss: 0.204087\n",
      "Train Epoch: 7 [44800/60000 (75%)]\tTrain Loss: 0.017577\n",
      "Train Epoch: 7 [51200/60000 (85%)]\tTrain Loss: 0.139316\n",
      "Train Epoch: 7 [57600/60000 (96%)]\tTrain Loss: 0.107783\n",
      "\n",
      "[EPOCH: 7], \tTest Loss: 0.0022, \tTest Accuracy: 97.79 % \n",
      "\n",
      "Train Epoch: 8 [0/60000 (0%)]\tTrain Loss: 0.124956\n",
      "Train Epoch: 8 [6400/60000 (11%)]\tTrain Loss: 0.058943\n",
      "Train Epoch: 8 [12800/60000 (21%)]\tTrain Loss: 0.034605\n",
      "Train Epoch: 8 [19200/60000 (32%)]\tTrain Loss: 0.209150\n",
      "Train Epoch: 8 [25600/60000 (43%)]\tTrain Loss: 0.031108\n",
      "Train Epoch: 8 [32000/60000 (53%)]\tTrain Loss: 0.033216\n",
      "Train Epoch: 8 [38400/60000 (64%)]\tTrain Loss: 0.172556\n",
      "Train Epoch: 8 [44800/60000 (75%)]\tTrain Loss: 0.125982\n",
      "Train Epoch: 8 [51200/60000 (85%)]\tTrain Loss: 0.372547\n",
      "Train Epoch: 8 [57600/60000 (96%)]\tTrain Loss: 0.133019\n",
      "\n",
      "[EPOCH: 8], \tTest Loss: 0.0023, \tTest Accuracy: 97.87 % \n",
      "\n",
      "Train Epoch: 9 [0/60000 (0%)]\tTrain Loss: 0.222094\n",
      "Train Epoch: 9 [6400/60000 (11%)]\tTrain Loss: 0.223739\n",
      "Train Epoch: 9 [12800/60000 (21%)]\tTrain Loss: 0.116397\n",
      "Train Epoch: 9 [19200/60000 (32%)]\tTrain Loss: 0.154384\n",
      "Train Epoch: 9 [25600/60000 (43%)]\tTrain Loss: 0.020013\n",
      "Train Epoch: 9 [32000/60000 (53%)]\tTrain Loss: 0.103198\n",
      "Train Epoch: 9 [38400/60000 (64%)]\tTrain Loss: 0.054838\n",
      "Train Epoch: 9 [44800/60000 (75%)]\tTrain Loss: 0.437826\n",
      "Train Epoch: 9 [51200/60000 (85%)]\tTrain Loss: 0.536820\n",
      "Train Epoch: 9 [57600/60000 (96%)]\tTrain Loss: 0.312129\n",
      "\n",
      "[EPOCH: 9], \tTest Loss: 0.0020, \tTest Accuracy: 98.16 % \n",
      "\n",
      "Train Epoch: 10 [0/60000 (0%)]\tTrain Loss: 0.067230\n",
      "Train Epoch: 10 [6400/60000 (11%)]\tTrain Loss: 0.200777\n",
      "Train Epoch: 10 [12800/60000 (21%)]\tTrain Loss: 0.073407\n",
      "Train Epoch: 10 [19200/60000 (32%)]\tTrain Loss: 0.335354\n",
      "Train Epoch: 10 [25600/60000 (43%)]\tTrain Loss: 0.082523\n",
      "Train Epoch: 10 [32000/60000 (53%)]\tTrain Loss: 0.305851\n",
      "Train Epoch: 10 [38400/60000 (64%)]\tTrain Loss: 0.140623\n",
      "Train Epoch: 10 [44800/60000 (75%)]\tTrain Loss: 0.061828\n",
      "Train Epoch: 10 [51200/60000 (85%)]\tTrain Loss: 0.256665\n",
      "Train Epoch: 10 [57600/60000 (96%)]\tTrain Loss: 0.069832\n",
      "\n",
      "[EPOCH: 10], \tTest Loss: 0.0021, \tTest Accuracy: 97.99 % \n",
      "\n"
     ]
    }
   ],
   "source": [
    "for epoch in range(1, EPOCHS + 1):\n",
    "    train(model, train_loader, optimizer, log_interval = 200)\n",
    "    test_loss, test_accuracy = evaluate(model, test_loader)\n",
    "    print(\"\\n[EPOCH: {}], \\tTest Loss: {:.4f}, \\tTest Accuracy: {:.2f} % \\n\".format(\n",
    "        epoch, test_loss, test_accuracy))"
   ]
  }
 ],
 "metadata": {
  "kernelspec": {
   "display_name": "base",
   "language": "python",
   "name": "python3"
  },
  "language_info": {
   "codemirror_mode": {
    "name": "ipython",
    "version": 3
   },
   "file_extension": ".py",
   "mimetype": "text/x-python",
   "name": "python",
   "nbconvert_exporter": "python",
   "pygments_lexer": "ipython3",
   "version": "3.9.16"
  },
  "orig_nbformat": 4
 },
 "nbformat": 4,
 "nbformat_minor": 2
}
